{
 "cells": [
  {
   "cell_type": "code",
   "execution_count": 2,
   "id": "338a5025",
   "metadata": {},
   "outputs": [],
   "source": [
    "import numpy as np\n",
    "import os\n",
    "from graphs.graphs import DirectedGraph\n",
    "import matplotlib.pyplot as plt"
   ]
  },
  {
   "cell_type": "code",
   "execution_count": 3,
   "id": "86b8a9da",
   "metadata": {},
   "outputs": [],
   "source": [
    "# Create a graph\n",
    "vertices = np.arange(1000)\n",
    "edges = np.random.randint(1000, size=(1000000, 2))\n",
    "G = DirectedGraph(vertices, edges)"
   ]
  },
  {
   "cell_type": "code",
   "execution_count": 4,
   "id": "c49aee7b",
   "metadata": {},
   "outputs": [
    {
     "name": "stdout",
     "output_type": "stream",
     "text": [
      "Total Vertices : 1000\n",
      "Total Edges : 632237\n"
     ]
    }
   ],
   "source": [
    "# Show edges, vertices\n",
    "print(G)"
   ]
  },
  {
   "cell_type": "code",
   "execution_count": 5,
   "id": "b2e0809b",
   "metadata": {},
   "outputs": [
    {
     "name": "stdout",
     "output_type": "stream",
     "text": [
      "Id : 3\n",
      "First 3 Out Edges : [345, 704, 801]\n",
      "First 3 In Edges : [692, 998, 867]\n"
     ]
    }
   ],
   "source": [
    "# Edges of the vertice 3\n",
    "print(\"Id :\", G[3].id)\n",
    "print(\"First 3 Out Edges :\", G[3].out[:3])\n",
    "print(\"First 3 In Edges :\", G[3].inp[:3])"
   ]
  },
  {
   "cell_type": "code",
   "execution_count": 6,
   "id": "17c4861a",
   "metadata": {},
   "outputs": [
    {
     "data": {
      "image/png": "[encoded data removed]",
      "text/plain": [
       "<Figure size 432x288 with 1 Axes>"
      ]
     },
     "metadata": {
      "needs_background": "light"
     },
     "output_type": "display_data"
    }
   ],
   "source": [
    "# Print and save the out degree distribution\n",
    "G.save_out_distribution(\"./example/\", \"demo.png\")"
   ]
  },
  {
   "cell_type": "code",
   "execution_count": 7,
   "id": "13dea71f",
   "metadata": {},
   "outputs": [],
   "source": [
    "# Save graph to hdf5\n",
    "G.save_to_h5(name=\"demo\")\n",
    "# Create an empty graph\n",
    "G2 = DirectedGraph()\n",
    "# Reload the graph inside G2\n",
    "G2.load_from_h5(\"./demo.hdf5\")\n",
    "os.remove(\"demo.hdf5\")"
   ]
  },
  {
   "cell_type": "code",
   "execution_count": 8,
   "id": "2ef25e8f",
   "metadata": {},
   "outputs": [
    {
     "data": {
      "text/plain": [
       "True"
      ]
     },
     "execution_count": 8,
     "metadata": {},
     "output_type": "execute_result"
    }
   ],
   "source": [
    "# Are the two graph the same ? I overloaded the equal sign\n",
    "G == G2"
   ]
  },
  {
   "cell_type": "code",
   "execution_count": 9,
   "id": "0832f08e",
   "metadata": {},
   "outputs": [
    {
     "name": "stdout",
     "output_type": "stream",
     "text": [
      "Total Vertices : 94\n",
      "Total Edges : 947\n"
     ]
    }
   ],
   "source": [
    "# Let's create an other graph\n",
    "vertices = np.random.randint(1000, 2000, size=100)\n",
    "edges = np.random.choice(vertices, size=(1000, 2))\n",
    "G3 = DirectedGraph(vertices, edges)\n",
    "print(G3)"
   ]
  },
  {
   "cell_type": "code",
   "execution_count": 10,
   "id": "f4f5a2d2",
   "metadata": {},
   "outputs": [
    {
     "name": "stdout",
     "output_type": "stream",
     "text": [
      "G\n",
      "Total Vertices : 1000\n",
      "Total Edges : 632237\n",
      "G3\n",
      "Total Vertices : 94\n",
      "Total Edges : 947\n",
      "Result :\n",
      "Total Vertices : 1094\n",
      "Total Edges : 633184\n"
     ]
    }
   ],
   "source": [
    "# Add G3 to G ? I overloaded the + sign\n",
    "G_added = G + G3\n",
    "print(\"G\")\n",
    "print(G)\n",
    "print(\"G3\")\n",
    "print(G3)\n",
    "print(\"Result :\")\n",
    "print(G_added)"
   ]
  },
  {
   "cell_type": "code",
   "execution_count": 11,
   "id": "b66dae9b",
   "metadata": {},
   "outputs": [
    {
     "data": {
      "text/plain": [
       "array([0, 1, 2, 3, 4, 5, 6, 7, 8, 9])"
      ]
     },
     "execution_count": 11,
     "metadata": {},
     "output_type": "execute_result"
    }
   ],
   "source": [
    "G.get_vertices()[:10]"
   ]
  },
  {
   "cell_type": "code",
   "execution_count": 12,
   "id": "b6ab727c",
   "metadata": {},
   "outputs": [
    {
     "data": {
      "text/plain": [
       "array([[ 0,  1],\n",
       "       [ 0,  3],\n",
       "       [ 0,  4],\n",
       "       [ 0,  5],\n",
       "       [ 0,  6],\n",
       "       [ 0,  9],\n",
       "       [ 0, 10],\n",
       "       [ 0, 11],\n",
       "       [ 0, 12],\n",
       "       [ 0, 13]])"
      ]
     },
     "execution_count": 12,
     "metadata": {},
     "output_type": "execute_result"
    }
   ],
   "source": [
    "G.get_edges()[:10]"
   ]
  }
 ],
 "metadata": {
  "kernelspec": {
   "display_name": "Python 3 (ipykernel)",
   "language": "python",
   "name": "python3"
  },
  "language_info": {
   "codemirror_mode": {
    "name": "ipython",
    "version": 3
   },
   "file_extension": ".py",
   "mimetype": "text/x-python",
   "name": "python",
   "nbconvert_exporter": "python",
   "pygments_lexer": "ipython3",
   "version": "3.8.8"
  }
 },
 "nbformat": 4,
 "nbformat_minor": 5
}
